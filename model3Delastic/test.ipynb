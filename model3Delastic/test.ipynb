{
 "cells": [
  {
   "cell_type": "code",
   "execution_count": 1,
   "metadata": {},
   "outputs": [],
   "source": [
    "from data.dataset import Dataset"
   ]
  },
  {
   "cell_type": "code",
   "execution_count": 2,
   "metadata": {},
   "outputs": [
    {
     "name": "stdout",
     "output_type": "stream",
     "text": [
      "Device:  cpu\n",
      "<class 'int'>\n",
      "384\n",
      "<class 'torch.device'>\n",
      "cpu\n",
      "Preprocessing of file 1 out of 3\n",
      "Value of n:  128 Value of i:  0\n",
      "File 1 loaded\n",
      "Input of file 1 saved. It corresponds to the young modulus.\n",
      "Output of file 1 saved. It corresponds to the stress number 1 and the load number 1\n",
      "Preprocessing of file 2 out of 3\n",
      "Value of n:  128 Value of i:  1\n",
      "File 2 loaded\n",
      "Input of file 2 saved. It corresponds to the young modulus.\n",
      "Output of file 2 saved. It corresponds to the stress number 1 and the load number 1\n",
      "Preprocessing of file 3 out of 3\n",
      "Value of n:  128 Value of i:  2\n",
      "File 3 loaded\n",
      "Input of file 3 saved. It corresponds to the young modulus.\n",
      "Output of file 3 saved. It corresponds to the stress number 1 and the load number 1\n"
     ]
    }
   ],
   "source": [
    "dataset = Dataset(data_path='./data/data_files/', n_samples=384, stress_number=2, load_number=2, augment=0, keep_prep=1)"
   ]
  },
  {
   "cell_type": "code",
   "execution_count": null,
   "metadata": {},
   "outputs": [],
   "source": []
  }
 ],
 "metadata": {
  "kernelspec": {
   "display_name": "lsms",
   "language": "python",
   "name": "python3"
  },
  "language_info": {
   "codemirror_mode": {
    "name": "ipython",
    "version": 3
   },
   "file_extension": ".py",
   "mimetype": "text/x-python",
   "name": "python",
   "nbconvert_exporter": "python",
   "pygments_lexer": "ipython3",
   "version": "3.9.18"
  }
 },
 "nbformat": 4,
 "nbformat_minor": 2
}
