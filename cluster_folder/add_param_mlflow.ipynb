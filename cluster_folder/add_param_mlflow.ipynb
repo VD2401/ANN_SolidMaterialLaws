{
 "cells": [
  {
   "cell_type": "markdown",
   "metadata": {},
   "source": [
    "# Add a parameter to a run\n",
    "This notebook can be used to add a parameter to a run that has already finished using the current parameters/metrics of the run."
   ]
  },
  {
   "cell_type": "code",
   "execution_count": 1,
   "metadata": {},
   "outputs": [],
   "source": [
    "import mlflow\n",
    "import os\n",
    "import sys"
   ]
  },
  {
   "cell_type": "code",
   "execution_count": 2,
   "metadata": {},
   "outputs": [],
   "source": [
    "mlruns_path = \"mlruns/\""
   ]
  },
  {
   "cell_type": "code",
   "execution_count": 3,
   "metadata": {},
   "outputs": [
    {
     "data": {
      "text/plain": [
       "['.DS_Store',\n",
       " '710942333730279009',\n",
       " '0',\n",
       " 'models',\n",
       " '.trash',\n",
       " '558424536518409256',\n",
       " '357721306053084560']"
      ]
     },
     "execution_count": 3,
     "metadata": {},
     "output_type": "execute_result"
    }
   ],
   "source": [
    "os.listdir(mlruns_path)"
   ]
  },
  {
   "cell_type": "code",
   "execution_count": 4,
   "metadata": {},
   "outputs": [
    {
     "data": {
      "text/plain": [
       "['558424536518409256']"
      ]
     },
     "execution_count": 4,
     "metadata": {},
     "output_type": "execute_result"
    }
   ],
   "source": [
    "#experiments = ['710942333730279009', '357721306053084560']\n",
    "\n",
    "experiments = ['558424536518409256']\n",
    "\n",
    "experiments "
   ]
  },
  {
   "cell_type": "code",
   "execution_count": 5,
   "metadata": {},
   "outputs": [],
   "source": [
    "trackingDir = 'http://localhost:5000'\n",
    "registryDir = './'\n",
    "client = mlflow.tracking.MlflowClient(\n",
    "            tracking_uri=trackingDir,\n",
    "            registry_uri=registryDir,\n",
    "        )"
   ]
  },
  {
   "cell_type": "code",
   "execution_count": 12,
   "metadata": {},
   "outputs": [
    {
     "name": "stdout",
     "output_type": "stream",
     "text": [
      "Run ID: bd25888e7b64420d81d85dc2ac7066df\n",
      "Life cycle stage: active\n",
      "last_epoch: 64\n",
      "total_time: 28328.60322213173\n",
      "mean_time_per_epoch: 442.63442534580827\n",
      "======================================\n",
      "Run ID: a8921255ee7b4e21a2ad86a9ef9a05f1\n",
      "Life cycle stage: active\n",
      "last_epoch: 4\n",
      "total_time: 886.3269095420837\n",
      "mean_time_per_epoch: 221.58172738552094\n",
      "======================================\n",
      "Run ID: 0ddcc226af6842ba97de03dd1e815bd6\n",
      "Life cycle stage: active\n",
      "last_epoch: 32\n",
      "total_time: 11879.074520111084\n",
      "mean_time_per_epoch: 371.2210787534714\n",
      "======================================\n",
      "Run ID: fdca9ffd14b14a9dadfaf806965f0de8\n",
      "Life cycle stage: active\n",
      "last_epoch: 8\n",
      "total_time: 2157.9085314273834\n",
      "mean_time_per_epoch: 269.7385664284229\n",
      "======================================\n",
      "Run ID: c9f29c399f444cb1941266b7d0ebd68e\n",
      "Life cycle stage: active\n",
      "last_epoch: 16\n",
      "total_time: 5397.325699806213\n",
      "mean_time_per_epoch: 337.33285623788834\n",
      "======================================\n"
     ]
    }
   ],
   "source": [
    "# Add metric to the run\n",
    "for experiment in experiments:\n",
    "    experiment_path = os.path.join(mlruns_path, experiment)\n",
    "    runs = os.listdir(experiment_path)\n",
    "    # remove elements that are not of length 32\n",
    "    run_ids = [run for run in runs if (len(run) == 32 and client.get_run(run).info.lifecycle_stage == 'active')]\n",
    "    for run_id in run_ids:\n",
    "        print(f\"Run ID: {run_id}\")\n",
    "        print(f\"Life cycle stage: {client.get_run(run_id).info.lifecycle_stage}\")\n",
    "        \n",
    "        key_params = ['last_epoch', 'total_time']\n",
    "        value_params = [client.get_run(run_id).data.params.get(key_params[0]), client.get_run(run_id).data.metrics.get(key_params[1])]\n",
    "        \n",
    "        print(f\"{key_params[0]}: {value_params[0]}\")\n",
    "        print(f\"{key_params[1]}: {value_params[1]}\")\n",
    "        \n",
    "        print(f\"mean_time_per_epoch: {float(value_params[1]) / int(value_params[0])}\")\n",
    "        print(\"======================================\")\n",
    "        try:\n",
    "            with mlflow.start_run(run_id=run_id):\n",
    "                mlflow.log_param(\"mean_time_per_epoch\", float(value_params[1]) / int(value_params[0]))\n",
    "        except:\n",
    "            print(f\"Already registered parameter for run: {run_id}\")\n",
    "            continue "
   ]
  },
  {
   "cell_type": "code",
   "execution_count": null,
   "metadata": {},
   "outputs": [],
   "source": []
  }
 ],
 "metadata": {
  "kernelspec": {
   "display_name": "lsms",
   "language": "python",
   "name": "python3"
  },
  "language_info": {
   "codemirror_mode": {
    "name": "ipython",
    "version": 3
   },
   "file_extension": ".py",
   "mimetype": "text/x-python",
   "name": "python",
   "nbconvert_exporter": "python",
   "pygments_lexer": "ipython3",
   "version": "3.9.18"
  }
 },
 "nbformat": 4,
 "nbformat_minor": 2
}
